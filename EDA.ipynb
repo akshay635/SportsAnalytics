{
 "cells": [
  {
   "cell_type": "code",
   "execution_count": 7,
   "metadata": {},
   "outputs": [
    {
     "data": {
      "text/html": [
       "<div>\n",
       "<style scoped>\n",
       "    .dataframe tbody tr th:only-of-type {\n",
       "        vertical-align: middle;\n",
       "    }\n",
       "\n",
       "    .dataframe tbody tr th {\n",
       "        vertical-align: top;\n",
       "    }\n",
       "\n",
       "    .dataframe thead th {\n",
       "        text-align: right;\n",
       "    }\n",
       "</style>\n",
       "<table border=\"1\" class=\"dataframe\">\n",
       "  <thead>\n",
       "    <tr style=\"text-align: right;\">\n",
       "      <th></th>\n",
       "      <th>num</th>\n",
       "      <th>team1</th>\n",
       "      <th>team2</th>\n",
       "      <th>winner</th>\n",
       "      <th>margin</th>\n",
       "      <th>ground</th>\n",
       "    </tr>\n",
       "  </thead>\n",
       "  <tbody>\n",
       "    <tr>\n",
       "      <th>0</th>\n",
       "      <td>Test # 1</td>\n",
       "      <td>Australia</td>\n",
       "      <td>England</td>\n",
       "      <td>Australia</td>\n",
       "      <td>45 runs</td>\n",
       "      <td>Melbourne</td>\n",
       "    </tr>\n",
       "    <tr>\n",
       "      <th>1</th>\n",
       "      <td>Test # 2</td>\n",
       "      <td>Australia</td>\n",
       "      <td>England</td>\n",
       "      <td>England</td>\n",
       "      <td>4 wickets</td>\n",
       "      <td>Melbourne</td>\n",
       "    </tr>\n",
       "    <tr>\n",
       "      <th>2</th>\n",
       "      <td>Test # 3</td>\n",
       "      <td>Australia</td>\n",
       "      <td>England</td>\n",
       "      <td>Australia</td>\n",
       "      <td>10 wickets</td>\n",
       "      <td>Melbourne</td>\n",
       "    </tr>\n",
       "    <tr>\n",
       "      <th>3</th>\n",
       "      <td>Test # 4</td>\n",
       "      <td>England</td>\n",
       "      <td>Australia</td>\n",
       "      <td>England</td>\n",
       "      <td>5 wickets</td>\n",
       "      <td>The Oval</td>\n",
       "    </tr>\n",
       "    <tr>\n",
       "      <th>4</th>\n",
       "      <td>Test # 5</td>\n",
       "      <td>Australia</td>\n",
       "      <td>England</td>\n",
       "      <td>drawn</td>\n",
       "      <td>NaN</td>\n",
       "      <td>Melbourne</td>\n",
       "    </tr>\n",
       "    <tr>\n",
       "      <th>5</th>\n",
       "      <td>Test # 6</td>\n",
       "      <td>Australia</td>\n",
       "      <td>England</td>\n",
       "      <td>Australia</td>\n",
       "      <td>5 wickets</td>\n",
       "      <td>Sydney</td>\n",
       "    </tr>\n",
       "    <tr>\n",
       "      <th>6</th>\n",
       "      <td>Test # 7</td>\n",
       "      <td>Australia</td>\n",
       "      <td>England</td>\n",
       "      <td>Australia</td>\n",
       "      <td>6 wickets</td>\n",
       "      <td>Sydney</td>\n",
       "    </tr>\n",
       "    <tr>\n",
       "      <th>7</th>\n",
       "      <td>Test # 8</td>\n",
       "      <td>Australia</td>\n",
       "      <td>England</td>\n",
       "      <td>drawn</td>\n",
       "      <td>NaN</td>\n",
       "      <td>Melbourne</td>\n",
       "    </tr>\n",
       "    <tr>\n",
       "      <th>8</th>\n",
       "      <td>Test # 9</td>\n",
       "      <td>England</td>\n",
       "      <td>Australia</td>\n",
       "      <td>Australia</td>\n",
       "      <td>7 runs</td>\n",
       "      <td>The Oval</td>\n",
       "    </tr>\n",
       "    <tr>\n",
       "      <th>9</th>\n",
       "      <td>Test # 10</td>\n",
       "      <td>Australia</td>\n",
       "      <td>England</td>\n",
       "      <td>Australia</td>\n",
       "      <td>9 wickets</td>\n",
       "      <td>Melbourne</td>\n",
       "    </tr>\n",
       "    <tr>\n",
       "      <th>10</th>\n",
       "      <td>Test # 11</td>\n",
       "      <td>Australia</td>\n",
       "      <td>England</td>\n",
       "      <td>England</td>\n",
       "      <td>inns &amp; 27 runs</td>\n",
       "      <td>Melbourne</td>\n",
       "    </tr>\n",
       "  </tbody>\n",
       "</table>\n",
       "</div>"
      ],
      "text/plain": [
       "          num      team1      team2     winner          margin     ground\n",
       "0    Test # 1  Australia    England  Australia         45 runs  Melbourne\n",
       "1    Test # 2  Australia    England    England       4 wickets  Melbourne\n",
       "2    Test # 3  Australia    England  Australia      10 wickets  Melbourne\n",
       "3    Test # 4    England  Australia    England       5 wickets   The Oval\n",
       "4    Test # 5  Australia    England      drawn             NaN  Melbourne\n",
       "5    Test # 6  Australia    England  Australia       5 wickets     Sydney\n",
       "6    Test # 7  Australia    England  Australia       6 wickets     Sydney\n",
       "7    Test # 8  Australia    England      drawn             NaN  Melbourne\n",
       "8    Test # 9    England  Australia  Australia          7 runs   The Oval\n",
       "9   Test # 10  Australia    England  Australia       9 wickets  Melbourne\n",
       "10  Test # 11  Australia    England    England  inns & 27 runs  Melbourne"
      ]
     },
     "execution_count": 7,
     "metadata": {},
     "output_type": "execute_result"
    }
   ],
   "source": [
    "# Create the following dataframe using lists"
   ]
  },
  {
   "cell_type": "code",
   "execution_count": 8,
   "metadata": {},
   "outputs": [],
   "source": [
    "#2) In the above dataframe, plot two bar graphs displaying the winning percentage of England and Australia respectively.\n",
    "#3) Add a column in the above dataframe as 0/1/2, 0 if team2 is winner, 1 if team1 is winner and 2 if match is drawn."
   ]
  },
  {
   "cell_type": "code",
   "execution_count": 3,
   "metadata": {},
   "outputs": [],
   "source": [
    "temp_row1 = [\"Test#1\", \"Australia\", \"England\", \"Australia\", \"45 runs\", \"Melbourne\"]\n",
    "temp_row2 = [\"Test#2\", \"Australia\", \"England\", \"England\", \"4 wickets\", \"Melbourne\"]\n",
    "temp_row3 = [\"Test#3\", \"Australia\", \"England\", \"Australia\", \"10 wickets\", \"Melbourne\"]\n",
    "temp_row4 = [\"Test#4\", \"England\", \"Australia\", \"England\", \"5 wickets\", \"The Oval\"]\n",
    "temp_row5 = [\"Test#5\", \"Australia\", \"England\", \"drawn\", \"-\", \"Melbourne\"]\n",
    "temp_row6 = [\"Test#6\", \"Australia\", \"England\", \"Australia\", \"5 wickets\", \"Sydney\"]\n",
    "temp_row7 = [\"Test#7\", \"Australia\", \"England\", \"Australia\", \"6 wickets\", \"Sydney\"]\n",
    "temp_row8 = [\"Test#8\", \"Australia\", \"England\", \"drawn\", \"-\", \"Melbourne\"]\n",
    "temp_row9 = [\"Test#9\", \"England\", \"Australia\", \"Australia\", \"7 runs\", \"The Oval\"]\n",
    "temp_row10 = [\"Test#10\", \"Australia\", \"England\", \"Australia\", \"9 wickets\", \"Melbourne\"]\n",
    "temp_row11 = [\"Test#11\", \"Australia\", \"England\", \"England\", \"inns & 27 runs\", \"Melbourne\"]"
   ]
  },
  {
   "cell_type": "code",
   "execution_count": 4,
   "metadata": {},
   "outputs": [],
   "source": [
    "df = [temp_row1, temp_row2, temp_row3, temp_row4, temp_row5, temp_row6, temp_row7, temp_row8, temp_row9, temp_row10, temp_row11]"
   ]
  },
  {
   "cell_type": "code",
   "execution_count": 6,
   "metadata": {},
   "outputs": [],
   "source": [
    "import pandas as pd\n",
    "df = pd.DataFrame(df)\n",
    "df.columns = [\"num\", \"team1\", \"team2\", \"winner\", \"margin\", \"ground\"]"
   ]
  },
  {
   "cell_type": "code",
   "execution_count": 1,
   "metadata": {},
   "outputs": [],
   "source": [
    "win_eng = 3/11"
   ]
  },
  {
   "cell_type": "code",
   "execution_count": 2,
   "metadata": {},
   "outputs": [
    {
     "data": {
      "text/plain": [
       "0.2727272727272727"
      ]
     },
     "execution_count": 2,
     "metadata": {},
     "output_type": "execute_result"
    }
   ],
   "source": [
    "win_eng"
   ]
  },
  {
   "cell_type": "code",
   "execution_count": 7,
   "metadata": {},
   "outputs": [],
   "source": [
    "num_win_eng = 0\n",
    "num_win_aus = 0\n",
    "for index, row in df.iterrows():\n",
    "    if(row[\"winner\"]==\"England\"):\n",
    "        num_win_eng = num_win_eng+1\n",
    "    if(row[\"winner\"]==\"Australia\"):\n",
    "        num_win_aus = num_win_aus+1\n",
    "        \n",
    "win_per_aus = num_win_aus/len(df)*100\n",
    "win_per_eng = num_win_eng/len(df)*100"
   ]
  },
  {
   "cell_type": "code",
   "execution_count": 10,
   "metadata": {},
   "outputs": [],
   "source": [
    "import matplotlib.pyplot as plt"
   ]
  },
  {
   "cell_type": "code",
   "execution_count": 11,
   "metadata": {},
   "outputs": [
    {
     "data": {
      "text/plain": [
       "<BarContainer object of 2 artists>"
      ]
     },
     "execution_count": 11,
     "metadata": {},
     "output_type": "execute_result"
    },
    {
     "data": {
      "image/png": "[encoded data removed]",
      "text/plain": [
       "<Figure size 432x288 with 1 Axes>"
      ]
     },
     "metadata": {
      "needs_background": "light"
     },
     "output_type": "display_data"
    }
   ],
   "source": [
    "plt.bar([\"Eng\", \"Aus\"], [win_per_eng, win_per_aus])"
   ]
  },
  {
   "cell_type": "code",
   "execution_count": 12,
   "metadata": {},
   "outputs": [],
   "source": [
    "home_team_win = []\n",
    "for index, row in df.iterrows():\n",
    "    if(row[\"winner\"]==row[\"team2\"]):\n",
    "        home_team_win.append(0)\n",
    "    elif(row[\"winner\"]==row[\"team1\"]):\n",
    "        home_team_win.append(1)\n",
    "    else:\n",
    "        home_team_win.append(2)\n",
    "\n",
    "df[\"home_team_win\"] = home_team_win"
   ]
  },
  {
   "cell_type": "code",
   "execution_count": 13,
   "metadata": {},
   "outputs": [
    {
     "data": {
      "text/html": [
       "<div>\n",
       "<style scoped>\n",
       "    .dataframe tbody tr th:only-of-type {\n",
       "        vertical-align: middle;\n",
       "    }\n",
       "\n",
       "    .dataframe tbody tr th {\n",
       "        vertical-align: top;\n",
       "    }\n",
       "\n",
       "    .dataframe thead th {\n",
       "        text-align: right;\n",
       "    }\n",
       "</style>\n",
       "<table border=\"1\" class=\"dataframe\">\n",
       "  <thead>\n",
       "    <tr style=\"text-align: right;\">\n",
       "      <th></th>\n",
       "      <th>num</th>\n",
       "      <th>team1</th>\n",
       "      <th>team2</th>\n",
       "      <th>winner</th>\n",
       "      <th>margin</th>\n",
       "      <th>ground</th>\n",
       "      <th>home_team_win</th>\n",
       "    </tr>\n",
       "  </thead>\n",
       "  <tbody>\n",
       "    <tr>\n",
       "      <th>0</th>\n",
       "      <td>Test#1</td>\n",
       "      <td>Australia</td>\n",
       "      <td>England</td>\n",
       "      <td>Australia</td>\n",
       "      <td>45 runs</td>\n",
       "      <td>Melbourne</td>\n",
       "      <td>1</td>\n",
       "    </tr>\n",
       "    <tr>\n",
       "      <th>1</th>\n",
       "      <td>Test#2</td>\n",
       "      <td>Australia</td>\n",
       "      <td>England</td>\n",
       "      <td>England</td>\n",
       "      <td>4 wickets</td>\n",
       "      <td>Melbourne</td>\n",
       "      <td>0</td>\n",
       "    </tr>\n",
       "    <tr>\n",
       "      <th>2</th>\n",
       "      <td>Test#3</td>\n",
       "      <td>Australia</td>\n",
       "      <td>England</td>\n",
       "      <td>Australia</td>\n",
       "      <td>10 wickets</td>\n",
       "      <td>Melbourne</td>\n",
       "      <td>1</td>\n",
       "    </tr>\n",
       "    <tr>\n",
       "      <th>3</th>\n",
       "      <td>Test#4</td>\n",
       "      <td>England</td>\n",
       "      <td>Australia</td>\n",
       "      <td>England</td>\n",
       "      <td>5 wickets</td>\n",
       "      <td>The Oval</td>\n",
       "      <td>1</td>\n",
       "    </tr>\n",
       "    <tr>\n",
       "      <th>4</th>\n",
       "      <td>Test#5</td>\n",
       "      <td>Australia</td>\n",
       "      <td>England</td>\n",
       "      <td>drawn</td>\n",
       "      <td>-</td>\n",
       "      <td>Melbourne</td>\n",
       "      <td>2</td>\n",
       "    </tr>\n",
       "    <tr>\n",
       "      <th>5</th>\n",
       "      <td>Test#6</td>\n",
       "      <td>Australia</td>\n",
       "      <td>England</td>\n",
       "      <td>Australia</td>\n",
       "      <td>5 wickets</td>\n",
       "      <td>Sydney</td>\n",
       "      <td>1</td>\n",
       "    </tr>\n",
       "    <tr>\n",
       "      <th>6</th>\n",
       "      <td>Test#7</td>\n",
       "      <td>Australia</td>\n",
       "      <td>England</td>\n",
       "      <td>Australia</td>\n",
       "      <td>6 wickets</td>\n",
       "      <td>Sydney</td>\n",
       "      <td>1</td>\n",
       "    </tr>\n",
       "    <tr>\n",
       "      <th>7</th>\n",
       "      <td>Test#8</td>\n",
       "      <td>Australia</td>\n",
       "      <td>England</td>\n",
       "      <td>drawn</td>\n",
       "      <td>-</td>\n",
       "      <td>Melbourne</td>\n",
       "      <td>2</td>\n",
       "    </tr>\n",
       "    <tr>\n",
       "      <th>8</th>\n",
       "      <td>Test#9</td>\n",
       "      <td>England</td>\n",
       "      <td>Australia</td>\n",
       "      <td>Australia</td>\n",
       "      <td>7 runs</td>\n",
       "      <td>The Oval</td>\n",
       "      <td>0</td>\n",
       "    </tr>\n",
       "    <tr>\n",
       "      <th>9</th>\n",
       "      <td>Test#10</td>\n",
       "      <td>Australia</td>\n",
       "      <td>England</td>\n",
       "      <td>Australia</td>\n",
       "      <td>9 wickets</td>\n",
       "      <td>Melbourne</td>\n",
       "      <td>1</td>\n",
       "    </tr>\n",
       "    <tr>\n",
       "      <th>10</th>\n",
       "      <td>Test#11</td>\n",
       "      <td>Australia</td>\n",
       "      <td>England</td>\n",
       "      <td>England</td>\n",
       "      <td>inns &amp; 27 runs</td>\n",
       "      <td>Melbourne</td>\n",
       "      <td>0</td>\n",
       "    </tr>\n",
       "  </tbody>\n",
       "</table>\n",
       "</div>"
      ],
      "text/plain": [
       "        num      team1      team2     winner          margin     ground  \\\n",
       "0    Test#1  Australia    England  Australia         45 runs  Melbourne   \n",
       "1    Test#2  Australia    England    England       4 wickets  Melbourne   \n",
       "2    Test#3  Australia    England  Australia      10 wickets  Melbourne   \n",
       "3    Test#4    England  Australia    England       5 wickets   The Oval   \n",
       "4    Test#5  Australia    England      drawn               -  Melbourne   \n",
       "5    Test#6  Australia    England  Australia       5 wickets     Sydney   \n",
       "6    Test#7  Australia    England  Australia       6 wickets     Sydney   \n",
       "7    Test#8  Australia    England      drawn               -  Melbourne   \n",
       "8    Test#9    England  Australia  Australia          7 runs   The Oval   \n",
       "9   Test#10  Australia    England  Australia       9 wickets  Melbourne   \n",
       "10  Test#11  Australia    England    England  inns & 27 runs  Melbourne   \n",
       "\n",
       "    home_team_win  \n",
       "0               1  \n",
       "1               0  \n",
       "2               1  \n",
       "3               1  \n",
       "4               2  \n",
       "5               1  \n",
       "6               1  \n",
       "7               2  \n",
       "8               0  \n",
       "9               1  \n",
       "10              0  "
      ]
     },
     "execution_count": 13,
     "metadata": {},
     "output_type": "execute_result"
    }
   ],
   "source": [
    "df"
   ]
  },
  {
   "cell_type": "code",
   "execution_count": null,
   "metadata": {},
   "outputs": [],
   "source": []
  }
 ],
 "metadata": {
  "kernelspec": {
   "display_name": "Python 3",
   "language": "python",
   "name": "python3"
  },
  "language_info": {
   "codemirror_mode": {
    "name": "ipython",
    "version": 3
   },
   "file_extension": ".py",
   "mimetype": "text/x-python",
   "name": "python",
   "nbconvert_exporter": "python",
   "pygments_lexer": "ipython3",
   "version": "3.7.3"
  }
 },
 "nbformat": 4,
 "nbformat_minor": 2
}
